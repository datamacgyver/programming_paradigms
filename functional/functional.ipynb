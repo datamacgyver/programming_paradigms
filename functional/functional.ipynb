{
 "cells": [
  {
   "cell_type": "markdown",
   "metadata": {
    "collapsed": true,
    "pycharm": {
     "name": "#%% md\n"
    }
   },
   "source": [
    "At first glance, functional looks like procedural but there are a few key differences:\n",
    "* Everything is immutable\n",
    "* Nothing has side-effects\n",
    "* Anything can be a function\n",
    "* You model your processes like a maths problem\n",
    "    * `y = 2x + 7`\n",
    "    * `x = 7-z`\n",
    "    * Therefore `y= 2(7-z) + 7`, therefore `y = 21-2z`\n",
    "    * Yes this is hard\n",
    "\n",
    "## Start Simple"
   ]
  },
  {
   "cell_type": "code",
   "execution_count": 4,
   "outputs": [
    {
     "name": "stdout",
     "output_type": "stream",
     "text": [
      "1\n"
     ]
    }
   ],
   "source": [
    "num = 1\n",
    "\n",
    "def function_to_add_one(num):\n",
    "    return num + 1\n",
    "\n",
    "function_to_add_one(num)\n",
    "function_to_add_one(num)\n",
    "function_to_add_one(num)\n",
    "function_to_add_one(num)\n",
    "function_to_add_one(num)\n",
    "\n",
    "print(num)"
   ],
   "metadata": {
    "collapsed": false,
    "pycharm": {
     "name": "#%%\n"
    }
   }
  },
  {
   "cell_type": "markdown",
   "source": [
    "So here, when I run the function it always returns the same value because num cannot change without\n",
    "a new assignment. It is immutable. I should be designing my functions so that I don't have to use\n",
    "a state to get my results.\n",
    "\n",
    "## Stateless Functions"
   ],
   "metadata": {
    "collapsed": false,
    "pycharm": {
     "name": "#%% md\n"
    }
   }
  },
  {
   "cell_type": "code",
   "execution_count": 5,
   "outputs": [
    {
     "name": "stdout",
     "output_type": "stream",
     "text": [
      "6\n"
     ]
    }
   ],
   "source": [
    "num = 1\n",
    "\n",
    "def function_to_add_one(num, repetitions):\n",
    "    return num + (1*repetitions)\n",
    "\n",
    "out = function_to_add_one(num, 5)\n",
    "\n",
    "print(out)"
   ],
   "metadata": {
    "collapsed": false,
    "pycharm": {
     "name": "#%%\n"
    }
   }
  },
  {
   "cell_type": "markdown",
   "source": [
    "### Recursion\n",
    "The above can also be done using the idea of recursion, something that is used a fair bit in functional\n",
    "code:"
   ],
   "metadata": {
    "collapsed": false,
    "pycharm": {
     "name": "#%% md\n"
    }
   }
  },
  {
   "cell_type": "code",
   "execution_count": 6,
   "outputs": [
    {
     "name": "stdout",
     "output_type": "stream",
     "text": [
      "6\n"
     ]
    }
   ],
   "source": [
    "num = 1\n",
    "\n",
    "def function_to_add_one(num, repetitions):\n",
    "    if repetitions == 1:  # Last iteration\n",
    "        return num + 1\n",
    "    else:  # All others\n",
    "        return function_to_add_one(num+1, repetitions-1)\n",
    "\n",
    "out = function_to_add_one(num, 5)\n",
    "\n",
    "print(out)"
   ],
   "metadata": {
    "collapsed": false,
    "pycharm": {
     "name": "#%%\n"
    }
   }
  },
  {
   "cell_type": "markdown",
   "source": [
    "## Functional Programming in Python\n",
    "This idea of static state manifests in several ways. Python isn't really setup for\n",
    "functional coding but there are some features that are actually very similar. Let's\n",
    "first look at some native list operations.\n",
    "\n",
    "### Lists as Objects"
   ],
   "metadata": {
    "collapsed": false,
    "pycharm": {
     "name": "#%% md\n"
    }
   }
  },
  {
   "cell_type": "code",
   "execution_count": 7,
   "outputs": [
    {
     "name": "stdout",
     "output_type": "stream",
     "text": [
      "['a', 'ab', 'abc', 'abcd']\n"
     ]
    }
   ],
   "source": [
    "strings = [\"a\", \"ab\", \"abc\", \"abcd\"]\n",
    "print(strings)"
   ],
   "metadata": {
    "collapsed": false,
    "pycharm": {
     "name": "#%%\n"
    }
   }
  },
  {
   "cell_type": "code",
   "execution_count": 8,
   "outputs": [
    {
     "name": "stdout",
     "output_type": "stream",
     "text": [
      "['a', 'ab', 'abc', 'abcd', 'abcdef']\n"
     ]
    }
   ],
   "source": [
    "strings.append(\"abcdef\")\n",
    "print(strings)"
   ],
   "metadata": {
    "collapsed": false,
    "pycharm": {
     "name": "#%%\n"
    }
   }
  },
  {
   "cell_type": "code",
   "execution_count": 9,
   "outputs": [
    {
     "name": "stdout",
     "output_type": "stream",
     "text": [
      "['abcdef', 'abcd', 'abc', 'ab', 'a']\n"
     ]
    }
   ],
   "source": [
    "strings.reverse()\n",
    "print(strings)"
   ],
   "metadata": {
    "collapsed": false,
    "pycharm": {
     "name": "#%%\n"
    }
   }
  },
  {
   "cell_type": "markdown",
   "source": [
    "Note that, while I haven't done any assignments except for the first one, the list\n",
    "has changed at each step, I have modified its state which is a big no no in functional\n",
    "programming! Imagine I was doing this in a big bit of software, I wouldn't really know\n",
    "what state my list was in unless I logged it!\n"
   ],
   "metadata": {
    "collapsed": false,
    "pycharm": {
     "name": "#%% md\n"
    }
   }
  },
  {
   "cell_type": "markdown",
   "source": [
    "### Pretending Lists are Immutable\n",
    "Luckily, Python has features to do this in a more functional context:"
   ],
   "metadata": {
    "collapsed": false,
    "pycharm": {
     "name": "#%% md\n"
    }
   }
  },
  {
   "cell_type": "code",
   "execution_count": 10,
   "outputs": [
    {
     "name": "stdout",
     "output_type": "stream",
     "text": [
      "['a', 'ab', 'abc', 'abcd']\n"
     ]
    }
   ],
   "source": [
    "strings = [\"a\", \"ab\", \"abc\", \"abcd\"]\n",
    "print(strings)"
   ],
   "metadata": {
    "collapsed": false,
    "pycharm": {
     "name": "#%%\n"
    }
   }
  },
  {
   "cell_type": "code",
   "execution_count": 11,
   "outputs": [
    {
     "name": "stdout",
     "output_type": "stream",
     "text": [
      "['a', 'ab', 'abc', 'abcd', 'abcdef']\n"
     ]
    }
   ],
   "source": [
    "strings = strings + [\"abcdef\"]\n",
    "print(strings)"
   ],
   "metadata": {
    "collapsed": false,
    "pycharm": {
     "name": "#%%\n"
    }
   }
  },
  {
   "cell_type": "code",
   "execution_count": 12,
   "outputs": [
    {
     "name": "stdout",
     "output_type": "stream",
     "text": [
      "['abcdef', 'abcd', 'abc', 'ab', 'a']\n"
     ]
    }
   ],
   "source": [
    "strings = strings[::-1]\n",
    "print(strings)"
   ],
   "metadata": {
    "collapsed": false,
    "pycharm": {
     "name": "#%%\n"
    }
   }
  },
  {
   "cell_type": "markdown",
   "source": [
    "Now, I am assigning new variables here *but I am not changing the old one*,\n",
    "instead I create a new one. This means that if I alter a list from some other\n",
    "function or context then I won't change something's state without realising it.\n"
   ],
   "metadata": {
    "collapsed": false,
    "pycharm": {
     "name": "#%% md\n"
    }
   }
  },
  {
   "cell_type": "markdown",
   "source": [
    "### Using Functions on Lists\n",
    "\n",
    "Here's a more functional version, note I'm avoiding assignments, that's not going to always work\n",
    "but it should be the direction you are thinking. It's not *wrong* to create new variables (even\n",
    "mutable ones) in a function, but their context should be limited to that function only!"
   ],
   "metadata": {
    "collapsed": false,
    "pycharm": {
     "name": "#%% md\n"
    }
   }
  },
  {
   "cell_type": "code",
   "execution_count": 13,
   "outputs": [
    {
     "name": "stdout",
     "output_type": "stream",
     "text": [
      "['abcdef', 'abcd', 'abc', 'ab', 'a']\n"
     ]
    }
   ],
   "source": [
    "def add_a_val(lst, val):\n",
    "    return lst + [val]\n",
    "\n",
    "def create_new_list(lst):\n",
    "    return add_a_val(lst, \"abcdef\")[::-1]\n",
    "\n",
    "strings = [\"a\", \"ab\", \"abc\", \"abcd\"]\n",
    "strings_out = create_new_list(strings)\n",
    "\n",
    "print(strings_out)\n"
   ],
   "metadata": {
    "collapsed": false,
    "pycharm": {
     "name": "#%%\n"
    }
   }
  },
  {
   "cell_type": "markdown",
   "source": [
    "### List Comprehensions Force Re-Assignment\n",
    "\n",
    "This is now where python's tooling comes into its own. List comprehension is the very essence\n",
    "of functional programming. It's a highly flexible map operation:"
   ],
   "metadata": {
    "collapsed": false,
    "pycharm": {
     "name": "#%% md\n"
    }
   }
  },
  {
   "cell_type": "code",
   "execution_count": 14,
   "outputs": [
    {
     "name": "stdout",
     "output_type": "stream",
     "text": [
      "['a', 'ab', 'abc', 'abcd'] \n",
      " ['z', 'zb', 'zbc', 'zbcd']\n"
     ]
    }
   ],
   "source": [
    "def replace_as(a_str):\n",
    "    return a_str.replace(\"a\", \"z\")\n",
    "\n",
    "strings = [\"a\", \"ab\", \"abc\", \"abcd\"]\n",
    "strings_out = [replace_as(s) for s in strings]\n",
    "\n",
    "print(strings, \"\\n\", strings_out)"
   ],
   "metadata": {
    "collapsed": false,
    "pycharm": {
     "name": "#%%\n"
    }
   }
  },
  {
   "cell_type": "markdown",
   "source": [
    "Here, I have used list comprehension to create a new list with updated values. Note that the original\n",
    "list is unchanged and I have created a brand new one with the updated values rather than modifying them\n",
    "in place. This is functional and means you always know where you are with a variable."
   ],
   "metadata": {
    "collapsed": false,
    "pycharm": {
     "name": "#%% md\n"
    }
   }
  },
  {
   "cell_type": "markdown",
   "source": [
    "## In summary\n",
    "I actually think that Python has got this right, there are aspects of functional programming that are really useful,\n",
    "things like thinking before you use state are advantageous and being able to lean into immutability makes multi-thread\n",
    "processes easier to design. There is a drawback in that my `create_new_list()` function is harder to understand than\n",
    "simply using `.append()` and `.reverser()` so being able to balance the two is really handy!\n"
   ],
   "metadata": {
    "collapsed": false,
    "pycharm": {
     "name": "#%% md\n"
    }
   }
  }
 ],
 "metadata": {
  "kernelspec": {
   "display_name": "Python 3",
   "language": "python",
   "name": "python3"
  },
  "language_info": {
   "codemirror_mode": {
    "name": "ipython",
    "version": 2
   },
   "file_extension": ".py",
   "mimetype": "text/x-python",
   "name": "python",
   "nbconvert_exporter": "python",
   "pygments_lexer": "ipython2",
   "version": "2.7.6"
  }
 },
 "nbformat": 4,
 "nbformat_minor": 0
}