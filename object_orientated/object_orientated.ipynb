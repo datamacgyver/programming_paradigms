{
 "cells": [
  {
   "cell_type": "markdown",
   "metadata": {
    "collapsed": true,
    "pycharm": {
     "name": "#%% md\n"
    }
   },
   "source": [
    "# Object Orientated\n",
    "\n",
    "Okay, time for the big guns. Object oriented programming is often touted as the \"correct\"\n",
    "way. I'm not so sure about that but it does have its strengths. A point to note is that\n",
    "**python is an object orientated language**, many people simply don't treat it as such.\n",
    "\n",
    "Even Pandas has a key word argument `inplace=True` that means you don't return a new\n",
    "dataframe, you simply modify it in place. Whether you want such side effects is an\n",
    "entirely different conversation!\n",
    "\n",
    "In this world, you data is kept with the methods that can be applied to it, making\n",
    "your code better organised and easier to understand...to a point. My problem with this\n",
    "paradigm is that it often needs complex problems to see the benefits and often in those\n",
    "cases the implementation often gets verbose and hard to work on, but let's look at some\n",
    "bits and see what you think...\n",
    "\n",
    "## An Intro"
   ]
  },
  {
   "cell_type": "code",
   "execution_count": 1,
   "outputs": [
    {
     "name": "stdout",
     "output_type": "stream",
     "text": [
      "6\n"
     ]
    }
   ],
   "source": [
    "class Num:\n",
    "    def __init__(self, n):\n",
    "        self.n = n\n",
    "\n",
    "    def add_one(self):\n",
    "        self.n += 1\n",
    "\n",
    "num = Num(1)\n",
    "num.add_one()\n",
    "num.add_one()\n",
    "num.add_one()\n",
    "num.add_one()\n",
    "num.add_one()\n",
    "\n",
    "print(num.n)"
   ],
   "metadata": {
    "collapsed": false,
    "pycharm": {
     "name": "#%%\n"
    }
   }
  },
  {
   "cell_type": "markdown",
   "source": [
    "Much to unpack here, note first the use of `self` in all my functions and my data, this basically\n",
    "says \"you can find this in the current object\"\n",
    "\n",
    "You can see that  I've created a class (an object) which is initialised with a state,\n",
    "that state being `n = 1`. It saves that and it becomes part of what it is. If I want to\n",
    "modify `n` I call the `add_one()` method which modifies the state of my number. The key thing here\n",
    "is that, depending on where I am in my pipeline, num is different! Compare this to the final functional\n",
    "solution where I call my function and it returns a response, there is no place where my output has a value\n",
    "that isn't known or expected."
   ],
   "metadata": {
    "collapsed": false
   }
  },
  {
   "cell_type": "markdown",
   "source": [
    "## State\n",
    "This concept of state can trip you up as it makes things hard to test and debug,\n",
    "but it's also really useful (and often really badly taught IMHO). I like to present\n",
    "this as a database connection. Objects are useful because:\n",
    "\n",
    "* You don't want to make one connection per operation\n",
    "* Your connection may break or timeout, requiring a catch and re-authorisation\n",
    "* You may want to use one set of connection details in several places without handing them around as arguments\n",
    "or config"
   ],
   "metadata": {
    "collapsed": false,
    "pycharm": {
     "name": "#%% md\n"
    }
   }
  },
  {
   "cell_type": "code",
   "source": [
    "from object_orientated.stubs import PostgresConnection\n",
    "\n",
    "class Database:\n",
    "    def __init__(self, address, user, password):\n",
    "        self.address = address\n",
    "        self.user = user\n",
    "        self.password = password\n",
    "        self.connection = None\n",
    "        self._make_connection()\n",
    "\n",
    "    def _make_connection(self):\n",
    "        self.connection = PostgresConnection(self.address, self.user, self.password)\n",
    "\n",
    "    def insert_into_table(self, table, to_insert):\n",
    "        insert_statement = \"Insert into {table} ({values})\".format(table=table, values=to_insert)\n",
    "        try:\n",
    "            self.connection.run(insert_statement)\n",
    "        except ConnectionError:\n",
    "            self._make_connection()\n",
    "            self.connection.run(insert_statement)\n",
    "\n",
    "\n",
    "db = Database(\"localhost:4321\", \"rob\", \"THX1138\")\n",
    "db.insert_into_table(\"my_table\", [1, 2, 3, 4])"
   ],
   "metadata": {
    "collapsed": false,
    "pycharm": {
     "name": "#%%\n"
    }
   },
   "execution_count": 2,
   "outputs": []
  },
  {
   "cell_type": "markdown",
   "source": [
    "The above db object can now be given to anything that requires the functionality in the\n",
    "Database object, you don't have to create new connections for every operation and if you want to add\n",
    "new functionality you put it in the Database class. This is also a place to have your try/catch blocks\n",
    "to retry if your connection is closed, handily it also stores the connection data so it's easy to\n",
    "reconnect.\n",
    "\n",
    "Basically *everything to do with your database can live in this object* and if it works\n",
    "you can safely ignore what goes on inside it."
   ],
   "metadata": {
    "collapsed": false,
    "pycharm": {
     "name": "#%% md\n"
    }
   }
  },
  {
   "cell_type": "markdown",
   "source": [
    "## Objects Represent the World\n",
    "The above example is where you should use an object no matter what paradigm you like, it simply makes\n",
    "no sense to ignore the fact that your connection has a state and that state is useful in various places.\n",
    "Many languages go all in on this way of organising code though and there are reasons for that. Lets consider\n",
    "The idea of someone that owns a farming company, how may you represent the information on their holdings?"
   ],
   "metadata": {
    "collapsed": false
   }
  },
  {
   "cell_type": "code",
   "execution_count": 3,
   "outputs": [],
   "source": [
    "class Farmer:\n",
    "    def __init__(self, farms):\n",
    "        self.farms = farms"
   ],
   "metadata": {
    "collapsed": false,
    "pycharm": {
     "name": "#%%\n"
    }
   }
  },
  {
   "cell_type": "markdown",
   "source": [
    "That's great, but what about what goes on in those farms? You could get the function to take farms, fields\n",
    "but then which farm does each field belong to? It's hard to represent that logically...or is it? Let's make\n",
    "some more objects:"
   ],
   "metadata": {
    "collapsed": false
   }
  },
  {
   "cell_type": "code",
   "source": [
    "class Farm:\n",
    "    def __init__(self, fields):\n",
    "        self.fields = fields\n",
    "\n",
    "\n",
    "class Field:\n",
    "    def __init__(self, area, growing_seasons):\n",
    "        self.area = area\n",
    "        self.growing_seasons = growing_seasons\n",
    "\n",
    "\n",
    "class GrowingSeason:\n",
    "    def __init__(self, crop, treatments, amount_harvested):\n",
    "        self.crop = crop\n",
    "        self.treatments = treatments\n",
    "        self.amount_harvested = amount_harvested"
   ],
   "metadata": {
    "collapsed": false,
    "pycharm": {
     "name": "#%%\n"
    }
   },
   "execution_count": 4,
   "outputs": []
  },
  {
   "cell_type": "markdown",
   "source": [
    "Using these four classes, I have represented the hierarchy of ownership that our Farmer has, complete with\n",
    "some extra metadata along the way, such as field area_hectares. Would this be simpler using a dictionary?\n",
    "probably, yes but you wouldn't get the formal definition of the world that makes what you've done easier to\n",
    "document and communicate. In here you could also have support methods such as `get_harvest_per_acre()` in\n",
    "GrowingSeason or `get_total_harvested_by_crop()` in Farm, even `get_area_in_acres()` in field. You are adding\n",
    "those methods in the place where the data live, reducing the need for utility functions and the like.\n",
    "\n",
    "The above would probably also benefit from some type hints so we know what we are doing (for this kind of depth\n",
    "it really helps!):"
   ],
   "metadata": {
    "collapsed": false
   }
  },
  {
   "cell_type": "code",
   "source": [
    "from typing import List\n",
    "\n",
    "class GrowingSeason:\n",
    "    def __init__(self, year: int, crop: str, amount_harvested: float):\n",
    "        self.year = year\n",
    "        self.crop = crop\n",
    "        self.amount_harvested = amount_harvested\n",
    "\n",
    "\n",
    "class Field:\n",
    "    def __init__(self, area: float, growing_seasons: List[GrowingSeason]):\n",
    "        self.area = area\n",
    "        self.growing_seasons = growing_seasons\n",
    "\n",
    "\n",
    "class Farm:\n",
    "    def __init__(self, fields: List[Field]):\n",
    "        self.fields = fields\n",
    "\n",
    "\n",
    "class Farmer:\n",
    "    def __init__(self, farms: List[Farm]):\n",
    "        self.farms = farms\n",
    "\n",
    "    def print_crops(self):\n",
    "        for farm in self.farms:\n",
    "            for field in farm.fields:\n",
    "                for season in field.growing_seasons:\n",
    "                    print(season.crop)"
   ],
   "metadata": {
    "collapsed": false,
    "pycharm": {
     "name": "#%%\n"
    }
   },
   "execution_count": 5,
   "outputs": []
  },
  {
   "cell_type": "markdown",
   "source": [
    "Right, now let's create a farmer!"
   ],
   "metadata": {
    "collapsed": false,
    "pycharm": {
     "name": "#%% md\n"
    }
   }
  },
  {
   "cell_type": "code",
   "execution_count": 6,
   "outputs": [],
   "source": [
    "seasons = [GrowingSeason(2020, \"Wheat\", 20512.23), GrowingSeason(2021, \"Barley\", 4163.58)]\n",
    "fields = [Field(123, seasons)]\n",
    "farms = [Farm(fields)]\n",
    "farmer = Farmer(farms)"
   ],
   "metadata": {
    "collapsed": false,
    "pycharm": {
     "name": "#%%\n"
    }
   }
  },
  {
   "cell_type": "markdown",
   "source": [
    "To access a farmers farms is now simple and I can add whatever new functionality to any object I want. This \n",
    "is an improvement in storing this all as a nested dictionary as the methods live with the data!"
   ],
   "metadata": {
    "collapsed": false,
    "pycharm": {
     "name": "#%% md\n"
    }
   }
  },
  {
   "cell_type": "code",
   "execution_count": 7,
   "outputs": [
    {
     "name": "stdout",
     "output_type": "stream",
     "text": [
      "Wheat\n",
      "Barley\n"
     ]
    }
   ],
   "source": [
    "farmer.print_crops()\n"
   ],
   "metadata": {
    "collapsed": false,
    "pycharm": {
     "name": "#%%\n"
    }
   }
  },
  {
   "cell_type": "markdown",
   "source": [
    "## Inheritance\n",
    "The final thing I want to cover is inheritance. This is getting proper computer science now so deep breath!\n",
    "We are going to stick with farming and store some field info. All of our fields need the same base metrics\n",
    "but some will be unique to a particular type of farming. To help us define this we will use inheritance to \n",
    "simplify our objects"
   ],
   "metadata": {
    "collapsed": false
   }
  },
  {
   "cell_type": "code",
   "source": [
    "class BaseField:\n",
    "    def __init__(self, area_hectares, perimeter, location, soil_type):\n",
    "        self.area_hectares = area_hectares\n",
    "        self.perimeter = perimeter\n",
    "        self.location = location\n",
    "        self.soil_type = soil_type\n",
    "\n",
    "    def get_area_in_acres(self):\n",
    "        return self.area_hectares*2.47105\n",
    "\n",
    "\n",
    "class CowField(BaseField):\n",
    "\n",
    "    def __init__(self, area_hectares, perimeter, location, soil_type):\n",
    "        BaseField.__init__(self, area_hectares, perimeter, location, soil_type)\n",
    "\n",
    "    def get_max_cows_allowed(self):\n",
    "        return self.area_hectares / 2"
   ],
   "metadata": {
    "collapsed": false,
    "pycharm": {
     "name": "#%%\n"
    }
   },
   "execution_count": 8,
   "outputs": []
  },
  {
   "cell_type": "markdown",
   "source": [
    "Here I've defined a base field object, this represents the standard information that you need\n",
    "to define  field and it will be the same whether it's a cow field, a wheat field or a hemp field.\n",
    "By doing this I'm establishing a common terminology and data schema for all my fields that I\n",
    "can use anywhere inherit, I always know what I'm gonna get.\n",
    "\n",
    "The second class inherits from the first, so I can access area_hectares from the base object. I've also created\n",
    "a new method that is unique to cow fields, the maximum density I can safely graze at. \n",
    "\n",
    "A better implementation here may be an abstract class or interface class but I leave such things to the \n",
    "interested reader."
   ],
   "metadata": {
    "collapsed": false
   }
  },
  {
   "cell_type": "markdown",
   "source": [
    "### This can get complicated!\n",
    "It's worth noting that this particular way of using objects can quickly get really hard to maintain\n",
    "as you never really know where the bit you are using lives. This is true for most object orientated work, \n",
    "it sounds good on paper but it can quickly devolve to anarchy if people try to be clever or try to do *everything*\n",
    "as objects.\n",
    "\n",
    "This is why, for example, scala has benefits over java. It allows you to pick the right tools for the job. \n",
    "Python is the same, you can pick your paradigm based on your needs at the time and even mix and match.\n"
   ],
   "metadata": {
    "collapsed": false,
    "pycharm": {
     "name": "#%% md\n"
    }
   }
  }
 ],
 "metadata": {
  "kernelspec": {
   "display_name": "Python 3",
   "language": "python",
   "name": "python3"
  },
  "language_info": {
   "codemirror_mode": {
    "name": "ipython",
    "version": 2
   },
   "file_extension": ".py",
   "mimetype": "text/x-python",
   "name": "python",
   "nbconvert_exporter": "python",
   "pygments_lexer": "ipython2",
   "version": "2.7.6"
  }
 },
 "nbformat": 4,
 "nbformat_minor": 0
}