{
 "cells": [
  {
   "cell_type": "markdown",
   "metadata": {
    "collapsed": true,
    "pycharm": {
     "name": "#%% md\n"
    }
   },
   "source": [
    "# Procedural Programming\n",
    "\n",
    "Functional and procedural aren't far away from each other.\n",
    "The big difference is that one allows state. Let's take this\n",
    "highly simplified example:\n"
   ]
  },
  {
   "cell_type": "code",
   "source": [
    "num = 1\n",
    "\n",
    "\n",
    "def procedure_to_add_one():\n",
    "    global num\n",
    "    num += 1\n",
    "    return num\n",
    "\n",
    "\n",
    "procedure_to_add_one()\n",
    "procedure_to_add_one()\n",
    "procedure_to_add_one()\n",
    "procedure_to_add_one()\n",
    "procedure_to_add_one()\n",
    "\n",
    "print(num)"
   ],
   "metadata": {
    "collapsed": false,
    "pycharm": {
     "name": "#%%\n"
    }
   },
   "execution_count": null,
   "outputs": []
  },
  {
   "cell_type": "markdown",
   "source": [
    "What we get is 6, because the system has a state and calling our functions modifies that system's state.\n",
    "You don't see this much nowadays, it's the kinda thing that you used to use for assembly, you alter the\n",
    "state of the cpu and memory\n",
    "\n",
    "*Don't do this*\n"
   ],
   "metadata": {
    "collapsed": false
   }
  }
 ],
 "metadata": {
  "kernelspec": {
   "display_name": "Python 3",
   "language": "python",
   "name": "python3"
  },
  "language_info": {
   "codemirror_mode": {
    "name": "ipython",
    "version": 2
   },
   "file_extension": ".py",
   "mimetype": "text/x-python",
   "name": "python",
   "nbconvert_exporter": "python",
   "pygments_lexer": "ipython2",
   "version": "2.7.6"
  }
 },
 "nbformat": 4,
 "nbformat_minor": 0
}